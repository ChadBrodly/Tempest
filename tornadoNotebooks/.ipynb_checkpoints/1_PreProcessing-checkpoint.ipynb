{
 "cells": [
  {
   "cell_type": "code",
   "execution_count": 1,
   "metadata": {
    "collapsed": true
   },
   "outputs": [],
   "source": [
    "# Packages\n",
    "import pandas as pd\n",
    "import torch\n",
    "from torch.autograd import Variable\n",
    "import numpy as np\n",
    "import matplotlib\n",
    "import matplotlib.pyplot as plt\n",
    "plt.style.use('seaborn-whitegrid')\n",
    "%matplotlib inline\n",
    "import pylab\n",
    "import math\n",
    "pylab.rcParams['figure.figsize'] = (8.25, 6)"
   ]
  },
  {
   "cell_type": "code",
   "execution_count": 2,
   "metadata": {},
   "outputs": [],
   "source": [
    "# Import data\n",
    "tor_df = pd.read_csv(\"/data/raw/tor_train_set.csv\")"
   ]
  },
  {
   "cell_type": "code",
   "execution_count": 3,
   "metadata": {},
   "outputs": [
    {
     "data": {
      "text/plain": [
       "['DAMAGE_PROPERTY']"
      ]
     },
     "execution_count": 3,
     "metadata": {},
     "output_type": "execute_result"
    }
   ],
   "source": [
    "# Seperating variables\n",
    "# The outcomes\n",
    "tornado_outcome = tor_df.iloc[:, [2]]\n",
    "\n",
    "\n",
    "# Make sure variable is right\n",
    "list(tornado_outcome)"
   ]
  },
  {
   "cell_type": "code",
   "execution_count": 4,
   "metadata": {},
   "outputs": [
    {
     "data": {
      "text/plain": [
       "['DURATION_SECONDS',\n",
       " 'TOR_LENGTH',\n",
       " 'TOR_WIDTH',\n",
       " 'YEAR',\n",
       " 'MULTI_VORT_IND',\n",
       " 'TOR_AREA',\n",
       " 'TIME_SPLINE_1',\n",
       " 'TIME_SPLINE_2',\n",
       " 'TIME_SPLINE_3',\n",
       " 'TIME_SPLINE_4',\n",
       " 'TIME_SPLINE_5',\n",
       " 'TIME_SPLINE_6',\n",
       " 'TIME_SPLINE_7',\n",
       " 'TIME_SPLINE_8',\n",
       " 'JULIAN_SPLINE_1',\n",
       " 'JULIAN_SPLINE_2',\n",
       " 'JULIAN_SPLINE_3',\n",
       " 'JULIAN_SPLINE_4',\n",
       " 'JULIAN_SPLINE_5',\n",
       " 'JULIAN_SPLINE_6',\n",
       " 'JULIAN_SPLINE_7',\n",
       " 'JULIAN_SPLINE_8',\n",
       " 'JULIAN_SPLINE_9',\n",
       " 'JULIAN_SPLINE_10',\n",
       " 'JULIAN_SPLINE_11',\n",
       " 'JULIAN_SPLINE_12']"
      ]
     },
     "execution_count": 4,
     "metadata": {},
     "output_type": "execute_result"
    }
   ],
   "source": [
    "# The predictors\n",
    "tornado_predictors = tor_df.iloc[:, 3:]\n",
    "\n",
    "# Drop the ones that are irrelevant to this model type\n",
    "tornado_predictors = tornado_predictors.drop(['BEGIN_LAT',\n",
    "                                              'BEGIN_LON',\n",
    "                                              'OPEN_WATER_PROP',\n",
    "                                              'DEV_OPEN_PROP',\n",
    "                                              'DEV_LOW_PROP',\n",
    "                                              'DEV_MED_PROP',\n",
    "                                              'DEV_HIGH_PROP',\n",
    "                                              'BARREN_LAND_PROP',\n",
    "                                              'DECID_FOREST_PROP',\n",
    "                                              'EVERGR_FOREST_PROP',\n",
    "                                              'MIXED_FOREST_PROP',\n",
    "                                              'SHRUB_SCRUB_PROP',\n",
    "                                              'GRASS_LAND_PROP',\n",
    "                                              'PASTURE_HAY_PROP',\n",
    "                                              'CULT_CROPS_PROP',\n",
    "                                              'WOOD_WETLAND_PROP',\n",
    "                                              'HERB_WETLAND_PROP',\n",
    "                                              'MOB_HOME_DENS',\n",
    "                                              'POP_DENS',\n",
    "                                              'INCOME',\n",
    "                                              'TOT_DEV_INT',\n",
    "                                              'TOT_WOOD_AREA',\n",
    "                                              'WOOD_DEV_INT',\n",
    "                                              'STATE_RANK',\n",
    "                                              'EXP_INC_AREA'],\n",
    "                                             axis = 1)\n",
    "\n",
    "\n",
    "# Make sure the variables are right\n",
    "list(tornado_predictors)"
   ]
  },
  {
   "cell_type": "code",
   "execution_count": 5,
   "metadata": {},
   "outputs": [],
   "source": [
    "# Make the outcomes into a numpy array\n",
    "outcome_array = tornado_outcome.values\n",
    "\n",
    "# Makes that numpy array into a torch Tensor\n",
    "outcome_Tensor = torch.from_numpy(outcome_array)\n",
    "\n",
    "\n",
    "# Make the predictors into a numpy array\n",
    "predictors_array = tornado_predictors.values\n",
    "\n",
    "# Make that numpy array into a torch Tensor\n",
    "predictors_Tensor = torch.from_numpy(predictors_array)\n",
    "\n",
    "\n",
    "# Convert those DoubleTensors to FloatTensors\n",
    "# Changing outcomes from a DoubleTensor to a FloatTensor\n",
    "outcome_Tensor = outcome_Tensor.float()\n",
    "\n",
    "# Changing predictors too\n",
    "predictors_Tensor = predictors_Tensor.float()"
   ]
  },
  {
   "cell_type": "code",
   "execution_count": 6,
   "metadata": {},
   "outputs": [
    {
     "data": {
      "text/plain": [
       "['DAMAGE_PROPERTY']"
      ]
     },
     "execution_count": 6,
     "metadata": {},
     "output_type": "execute_result"
    }
   ],
   "source": [
    "# Import cross-validation data\n",
    "cv_df = pd.read_csv(\"/home/jeremy/github_tornadoesr/data/raw/tor_cv_set.csv\")\n",
    "\n",
    "\n",
    "# Get the outcomes\n",
    "cv_outcome = cv_df.iloc[:, [2]]\n",
    "\n",
    "# Convert the pandas column to a ndarray and then into a FloatTensor\n",
    "cv_outcome_Tensor = torch.from_numpy(cv_outcome.values).float()\n",
    "\n",
    "\n",
    "# Make sure the variable is right\n",
    "list(cv_outcome)"
   ]
  },
  {
   "cell_type": "code",
   "execution_count": 7,
   "metadata": {},
   "outputs": [
    {
     "data": {
      "text/plain": [
       "['DURATION_SECONDS',\n",
       " 'TOR_LENGTH',\n",
       " 'TOR_WIDTH',\n",
       " 'YEAR',\n",
       " 'MULTI_VORT_IND',\n",
       " 'TOR_AREA',\n",
       " 'TIME_SPLINE_1',\n",
       " 'TIME_SPLINE_2',\n",
       " 'TIME_SPLINE_3',\n",
       " 'TIME_SPLINE_4',\n",
       " 'TIME_SPLINE_5',\n",
       " 'TIME_SPLINE_6',\n",
       " 'TIME_SPLINE_7',\n",
       " 'TIME_SPLINE_8',\n",
       " 'JULIAN_SPLINE_1',\n",
       " 'JULIAN_SPLINE_2',\n",
       " 'JULIAN_SPLINE_3',\n",
       " 'JULIAN_SPLINE_4',\n",
       " 'JULIAN_SPLINE_5',\n",
       " 'JULIAN_SPLINE_6',\n",
       " 'JULIAN_SPLINE_7',\n",
       " 'JULIAN_SPLINE_8',\n",
       " 'JULIAN_SPLINE_9',\n",
       " 'JULIAN_SPLINE_10',\n",
       " 'JULIAN_SPLINE_11',\n",
       " 'JULIAN_SPLINE_12']"
      ]
     },
     "execution_count": 7,
     "metadata": {},
     "output_type": "execute_result"
    }
   ],
   "source": [
    "# Get the validation set predictors\n",
    "cv_predictors = cv_df.loc[:, ['DURATION_SECONDS',\n",
    "                              'TOR_LENGTH',\n",
    "                              'TOR_WIDTH',\n",
    "                              'YEAR',\n",
    "                              'MULTI_VORT_IND',\n",
    "                              'TOR_AREA',\n",
    "                              'TIME_SPLINE_1',\n",
    "                              'TIME_SPLINE_2',\n",
    "                              'TIME_SPLINE_3',\n",
    "                              'TIME_SPLINE_4',\n",
    "                              'TIME_SPLINE_5',\n",
    "                              'TIME_SPLINE_6',\n",
    "                              'TIME_SPLINE_7',\n",
    "                              'TIME_SPLINE_8',\n",
    "                              'JULIAN_SPLINE_1',\n",
    "                              'JULIAN_SPLINE_2',\n",
    "                              'JULIAN_SPLINE_3',\n",
    "                              'JULIAN_SPLINE_4',\n",
    "                              'JULIAN_SPLINE_5',\n",
    "                              'JULIAN_SPLINE_6',\n",
    "                              'JULIAN_SPLINE_7',\n",
    "                              'JULIAN_SPLINE_8',\n",
    "                              'JULIAN_SPLINE_9',\n",
    "                              'JULIAN_SPLINE_10',\n",
    "                              'JULIAN_SPLINE_11',\n",
    "                              'JULIAN_SPLINE_12']]\n",
    "\n",
    "# Make the validation set predictors into a numpy array\n",
    "cv_predictors_Tensor = torch.from_numpy(cv_predictors.values).float()\n",
    "\n",
    "\n",
    "# Make sure the variables are right\n",
    "list(cv_predictors)"
   ]
  },
  {
   "cell_type": "code",
   "execution_count": 8,
   "metadata": {},
   "outputs": [
    {
     "data": {
      "text/plain": [
       "['DAMAGE_PROPERTY']"
      ]
     },
     "execution_count": 8,
     "metadata": {},
     "output_type": "execute_result"
    }
   ],
   "source": [
    "# Import the test set data\n",
    "test_df = pd.read_csv(\"/home/jeremy/github_tornadoesr/data/raw/tor_test_set.csv\")\n",
    "\n",
    "\n",
    "# Get the outcomes\n",
    "test_outcome = test_df.iloc[:, [2]]\n",
    "\n",
    "# Convert the pandas column to a ndarray and then into a FloatTensor\n",
    "test_outcome_Tensor = torch.from_numpy(test_outcome.values).float()\n",
    "\n",
    "\n",
    "# Make sure the variable is right\n",
    "list(test_outcome)"
   ]
  },
  {
   "cell_type": "code",
   "execution_count": 9,
   "metadata": {},
   "outputs": [
    {
     "data": {
      "text/plain": [
       "['DURATION_SECONDS',\n",
       " 'TOR_LENGTH',\n",
       " 'TOR_WIDTH',\n",
       " 'YEAR',\n",
       " 'MULTI_VORT_IND',\n",
       " 'TOR_AREA',\n",
       " 'TIME_SPLINE_1',\n",
       " 'TIME_SPLINE_2',\n",
       " 'TIME_SPLINE_3',\n",
       " 'TIME_SPLINE_4',\n",
       " 'TIME_SPLINE_5',\n",
       " 'TIME_SPLINE_6',\n",
       " 'TIME_SPLINE_7',\n",
       " 'TIME_SPLINE_8',\n",
       " 'JULIAN_SPLINE_1',\n",
       " 'JULIAN_SPLINE_2',\n",
       " 'JULIAN_SPLINE_3',\n",
       " 'JULIAN_SPLINE_4',\n",
       " 'JULIAN_SPLINE_5',\n",
       " 'JULIAN_SPLINE_6',\n",
       " 'JULIAN_SPLINE_7',\n",
       " 'JULIAN_SPLINE_8',\n",
       " 'JULIAN_SPLINE_9',\n",
       " 'JULIAN_SPLINE_10',\n",
       " 'JULIAN_SPLINE_11',\n",
       " 'JULIAN_SPLINE_12']"
      ]
     },
     "execution_count": 9,
     "metadata": {},
     "output_type": "execute_result"
    }
   ],
   "source": [
    "# Get the test set predictors\n",
    "test_predictors = test_df.loc[:, ['DURATION_SECONDS',\n",
    "                                  'TOR_LENGTH',\n",
    "                                  'TOR_WIDTH',\n",
    "                                  'YEAR',\n",
    "                                  'MULTI_VORT_IND',\n",
    "                                  'TOR_AREA',\n",
    "                                  'TIME_SPLINE_1',\n",
    "                                  'TIME_SPLINE_2',\n",
    "                                  'TIME_SPLINE_3',\n",
    "                                  'TIME_SPLINE_4',\n",
    "                                  'TIME_SPLINE_5',\n",
    "                                  'TIME_SPLINE_6',\n",
    "                                  'TIME_SPLINE_7',\n",
    "                                  'TIME_SPLINE_8',\n",
    "                                  'JULIAN_SPLINE_1',\n",
    "                                  'JULIAN_SPLINE_2',\n",
    "                                  'JULIAN_SPLINE_3',\n",
    "                                  'JULIAN_SPLINE_4',\n",
    "                                  'JULIAN_SPLINE_5',\n",
    "                                  'JULIAN_SPLINE_6',\n",
    "                                  'JULIAN_SPLINE_7',\n",
    "                                  'JULIAN_SPLINE_8',\n",
    "                                  'JULIAN_SPLINE_9',\n",
    "                                  'JULIAN_SPLINE_10',\n",
    "                                  'JULIAN_SPLINE_11',\n",
    "                                  'JULIAN_SPLINE_12']]\n",
    "\n",
    "# Make the test set predictors into a numpy array\n",
    "test_predictors_Tensor = torch.from_numpy(test_predictors.values).float()\n",
    "\n",
    "\n",
    "# Make sure the variables are right\n",
    "list(test_predictors)"
   ]
  },
  {
   "cell_type": "code",
   "execution_count": 62,
   "metadata": {
    "collapsed": true
   },
   "outputs": [],
   "source": [
    "# Save the stored predictions and outcomes as a .csv\n",
    "stored_cv_pred_df.to_csv(\"12_cv_perf.csv\")\n",
    "\n",
    "stored_test_pred_df.to_csv(\"12_test_perf.csv\")\n",
    "\n",
    "metrics_df.to_csv(\"12_metrics.csv\")"
   ]
  }
 ],
 "metadata": {
  "kernelspec": {
   "display_name": "Python 3",
   "language": "python",
   "name": "python3"
  },
  "language_info": {
   "codemirror_mode": {
    "name": "ipython",
    "version": 3
   },
   "file_extension": ".py",
   "mimetype": "text/x-python",
   "name": "python",
   "nbconvert_exporter": "python",
   "pygments_lexer": "ipython3",
   "version": "3.7.6"
  }
 },
 "nbformat": 4,
 "nbformat_minor": 2
}
