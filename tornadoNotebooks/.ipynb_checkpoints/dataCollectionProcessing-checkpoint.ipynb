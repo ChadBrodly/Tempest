{
 "cells": [
  {
   "cell_type": "markdown",
   "metadata": {},
   "source": [
    "We begin by importing all relevant libraries. "
   ]
  },
  {
   "cell_type": "code",
   "execution_count": 13,
   "metadata": {},
   "outputs": [],
   "source": [
    "import pandas as pd\n",
    "import numpy as np\n",
    "\n",
    "from sqlalchemy import create_engine\n",
    "import requests\n",
    "from bs4 import BeautifulSoup\n",
    "\n",
    "%matplotlib inline"
   ]
  },
  {
   "cell_type": "markdown",
   "metadata": {},
   "source": [
    "We then write some code to avoid displaying warnings in Jupyter Notebook."
   ]
  },
  {
   "cell_type": "code",
   "execution_count": 14,
   "metadata": {},
   "outputs": [],
   "source": [
    "import warnings\n",
    "warnings.filterwarnings('ignore')"
   ]
  },
  {
   "cell_type": "markdown",
   "metadata": {},
   "source": [
    "Here, we will web-scrape the csv data from the National Oceanic and Atmospheric Administration (NOAA), who has been collecting this data over years. "
   ]
  },
  {
   "cell_type": "code",
   "execution_count": 25,
   "metadata": {},
   "outputs": [
    {
     "name": "stdout",
     "output_type": "stream",
     "text": [
      "<!DOCTYPE HTML PUBLIC \"-//IETF//DTD HTML 2.0//EN\">\n",
      "<html><head>\n",
      "<title>502 Proxy Error</title>\n",
      "</head><body>\n",
      "<h1>Proxy Error</h1>\n",
      "<p>The proxy server received an invalid\r\n",
      "response from an upstream server.<br />\r\n",
      "The proxy server could not handle the request <em><a href=\"/pub/data/swdi/stormevents/csvfiles/\">GET&nbsp;/pub/data/swdi/stormevents/csvfiles/</a></em>.<p>\n",
      "Reason: <strong>Error reading from remote server</strong></p></p>\n",
      "</body></html>\n",
      "\n"
     ]
    }
   ],
   "source": [
    "response = requests.get(\"https://www1.ncdc.noaa.gov/pub/data/swdi/stormevents/csvfiles/\")\n",
    "html = response.text\n",
    "print(html)"
   ]
  },
  {
   "cell_type": "code",
   "execution_count": 24,
   "metadata": {},
   "outputs": [],
   "source": [
    "#elements is blank for some reason\n",
    "\n",
    "soup = BeautifulSoup(html)\n",
    "elements = soup.findAll(\"a\",{\"class\":\"\"})"
   ]
  },
  {
   "cell_type": "code",
   "execution_count": 22,
   "metadata": {},
   "outputs": [],
   "source": [
    "StormEventDetails_allyears = []\n",
    "\n",
    "# The first 6 elements and the last 2 have to be discarded:\n",
    "for element in elements[6:-2]:\n",
    "    \n",
    "    # Selecting only the storm events tables (one for each year)\n",
    "    if element.attrs['href'].startswith('StormEvents_details'):\n",
    "        \n",
    "        filename = element.attrs['href']\n",
    "        StormEventDetails_url = link + filename\n",
    "        \n",
    "        # Creating an iterator in order to load the file in chunks of 1000 elements:\n",
    "        iter_csv = pd.read_csv(StormEventDetails_url, compression='gzip', iterator=True,\n",
    "                               chunksize=1000)\n",
    "        \n",
    "        # Concatenating the different chunks into a single dataframe, \n",
    "        # selecting the tornado events only:\n",
    "        StormEventDetails_allyears.append(\n",
    "            pd.concat([chunk[chunk['EVENT_TYPE'].map(lambda x: x.lower())\n",
    "                             == 'tornado'] for chunk in iter_csvtttt]))\n",
    "\n",
    "# Concatenating all the dataframes from the different years:\n",
    "StormEventDetails = pd.concat(StormEventDetails_allyears)\n",
    "        \n",
    "print StormEventDetails.shape\n",
    "StormEventDetails.head(2)"
   ]
  },
  {
   "cell_type": "code",
   "execution_count": null,
   "metadata": {},
   "outputs": [],
   "source": []
  }
 ],
 "metadata": {
  "kernelspec": {
   "display_name": "Python 3",
   "language": "python",
   "name": "python3"
  },
  "language_info": {
   "codemirror_mode": {
    "name": "ipython",
    "version": 3
   },
   "file_extension": ".py",
   "mimetype": "text/x-python",
   "name": "python",
   "nbconvert_exporter": "python",
   "pygments_lexer": "ipython3",
   "version": "3.8.3"
  }
 },
 "nbformat": 4,
 "nbformat_minor": 4
}
