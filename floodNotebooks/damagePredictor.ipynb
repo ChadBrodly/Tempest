{
 "cells": [
  {
   "cell_type": "code",
   "execution_count": 2,
   "metadata": {},
   "outputs": [
    {
     "name": "stderr",
     "output_type": "stream",
     "text": [
      "Using TensorFlow backend.\n"
     ]
    }
   ],
   "source": [
    "# External Packages\n",
    "import pandas as pd\n",
    "import numpy as np\n",
    "import seaborn as sns\n",
    "import datetime\n",
    "import time\n",
    "\n",
    "# Visualzation Packages\n",
    "import matplotlib\n",
    "import matplotlib.pyplot as plt\n",
    "import matplotlib.image as mpimg\n",
    "import squarify\n",
    "# import plotly.plotly as py\n",
    "# import plotly.graph_objs as go\n",
    "# import plotly \n",
    "# plotly.tools.set_credentials_file(username='psn1997', api_key='ffj08tmHIdZR3dUcbBIv')\n",
    "\n",
    "# Encoding Packages\n",
    "import category_encoders as ce  #Category Encoder\n",
    "from sklearn.preprocessing import LabelEncoder  #Label Encoder\n",
    "\n",
    "# Preprocessing Packages\n",
    "from sklearn.model_selection import train_test_split\n",
    "from sklearn import metrics\n",
    "from sklearn.preprocessing import MinMaxScaler\n",
    "\n",
    "# Machine Learning Models\n",
    "from sklearn import svm  #SVM Model\n",
    "from sklearn.tree import DecisionTreeClassifier  #Decision Tree Classifier\n",
    "from sklearn.ensemble import RandomForestClassifier  #Random Forest Classifier\n",
    "\n",
    "# Artificial Neural Network Models\n",
    "from keras.utils import np_utils\n",
    "from keras.models import Sequential\n",
    "from keras.layers.core import Dense  #FFNN\n",
    "from keras.layers.recurrent import LSTM  #RNN\n",
    "from keras.layers import Embedding\n",
    "from keras.optimizers import RMSprop\n",
    "# from rbflayer import RBFLayer, InitCentersRandom  #RBFN \n",
    "\n",
    "# Evaluation Packages\n",
    "from sklearn.metrics import confusion_matrix\n",
    "from sklearn.utils.multiclass import unique_labels\n",
    "from sklearn.metrics import cohen_kappa_score\n",
    "from sklearn.metrics import classification_report"
   ]
  },
  {
   "cell_type": "code",
   "execution_count": 3,
   "metadata": {},
   "outputs": [],
   "source": [
    "def plot_confusion_matrix(y_true, y_pred, classes, normalize=False, title=None, cmap=plt.cm.Blues):\n",
    "    \n",
    "    if not title:\n",
    "        if normalize:\n",
    "            title = 'Normalized confusion matrix'\n",
    "        else:\n",
    "            title = 'Confusion matrix, without normalization'\n",
    "\n",
    "    # Compute confusion matrix\n",
    "    cm = confusion_matrix(y_true, y_pred)\n",
    "    # Only use the labels that appear in the data\n",
    "    classes = classes\n",
    "    if normalize:\n",
    "        cm = cm.astype('float') / cm.sum(axis=1)[:, np.newaxis]\n",
    "        print(\"Normalized confusion matrix\")\n",
    "    else:\n",
    "        print('Confusion matrix, without normalization')\n",
    "        \n",
    "    fig, ax = plt.subplots()\n",
    "    im = ax.imshow(cm, interpolation='nearest', cmap=cmap)\n",
    "    ax.figure.colorbar(im, ax=ax)\n",
    "    # We want to show all ticks...\n",
    "    ax.set(xticks=np.arange(cm.shape[1]),\n",
    "           yticks=np.arange(cm.shape[0]),\n",
    "           # ... and label them with the respective list entries\n",
    "           xticklabels=classes, yticklabels=classes,\n",
    "           title=title,\n",
    "           ylabel='True label',\n",
    "           xlabel='Predicted label')\n",
    "\n",
    "    # Rotate the tick labels and set their alignment.\n",
    "    plt.setp(ax.get_xticklabels(), rotation=45, ha=\"right\",\n",
    "             rotation_mode=\"anchor\")\n",
    "\n",
    "    # Loop over data dimensions and create text annotations.\n",
    "    fmt = '.2f' if normalize else 'd'\n",
    "    thresh = cm.max() / 2.\n",
    "    for i in range(cm.shape[0]):\n",
    "        for j in range(cm.shape[1]):\n",
    "            ax.text(j, i, format(cm[i, j], fmt),\n",
    "                    ha=\"center\", va=\"center\",\n",
    "                    color=\"white\" if cm[i, j] > thresh else \"black\")\n",
    "    fig.tight_layout()\n",
    "    return ax"
   ]
  },
  {
   "cell_type": "code",
   "execution_count": 4,
   "metadata": {},
   "outputs": [],
   "source": [
    "def evaluate_model(y_true, pred):\n",
    "    class_names = np.array(['0','1','2','3','4'])\n",
    "    plot_confusion_matrix(y_test, pred,classes= class_names , title='Confusion matrix, without normalization')\n",
    "    plt.show()\n",
    "    print(\"Cohen Kappa Score: \"+ str(cohen_kappa_score(y_test, pred)))\n",
    "    print(\"Classification report \\n\" + str(classification_report(y_test, pred, target_names=class_names)))\n",
    "    \n",
    "    return"
   ]
  },
  {
   "cell_type": "code",
   "execution_count": 5,
   "metadata": {},
   "outputs": [],
   "source": [
    "floods = pd.read_csv(\"database.csv\", index_col=0)\n",
    "np.random.seed(0)"
   ]
  },
  {
   "cell_type": "code",
   "execution_count": 6,
   "metadata": {},
   "outputs": [],
   "source": [
    "viz_floods = floods.copy()\n",
    "freq_floods = viz_floods['State'].value_counts()\n",
    "freq_floods = freq_floods.to_frame().reset_index()\n",
    "freq_floods = freq_floods.rename(columns= {\"index\": \"State\", \"State\":\"Frequency\"})"
   ]
  },
  {
   "cell_type": "code",
   "execution_count": 7,
   "metadata": {},
   "outputs": [
    {
     "data": {
      "image/png": "[encoded data removed]",
      "text/plain": [
       "<Figure size 432x288 with 1 Axes>"
      ]
     },
     "metadata": {
      "needs_background": "light"
     },
     "output_type": "display_data"
    }
   ],
   "source": [
    "cmap = matplotlib.cm.Blues\n",
    "mini=freq_floods['Frequency'][0:10].min()\n",
    "maxi=freq_floods['Frequency'][0:10].max()\n",
    "norm = matplotlib.colors.Normalize(vmin=mini, vmax=maxi)\n",
    "colors = [cmap(norm(value)) for value in freq_floods['Frequency'][0:10]]\n",
    "\n",
    "squarify.plot(sizes=freq_floods['Frequency'][0:10], label=freq_floods['State'][0:10], alpha=.6, color=colors)\n",
    "plt.axis('off')\n",
    "plt.show()"
   ]
  },
  {
   "cell_type": "code",
   "execution_count": 8,
   "metadata": {},
   "outputs": [],
   "source": [
    "floods_gb=floods.groupby(['State', 'Code']).size()\n",
    "floods_gb = floods_gb.to_frame().reset_index()\n",
    "floods_gb = floods_gb.rename(columns= {0: \"Frequency\"})"
   ]
  },
  {
   "cell_type": "code",
   "execution_count": 9,
   "metadata": {},
   "outputs": [
    {
     "name": "stdout",
     "output_type": "stream",
     "text": [
      "Begin_Month              0\n",
      "Begin_Day                0\n",
      "Begin_Year               0\n",
      "Begin_Time               0\n",
      "End_Date_Time            0\n",
      "End_Month                0\n",
      "End_Day                  0\n",
      "End_Time                 0\n",
      "Code                     0\n",
      "State                    0\n",
      "CZ_Type                  0\n",
      "CZ_Name                  0\n",
      "Damage_Property          0\n",
      "Range_Damage_Property    0\n",
      "Flood_Cause              0\n",
      "Begin_Lat                0\n",
      "Begin_Lon                0\n",
      "End_Lat                  0\n",
      "End_Lon                  0\n",
      "dtype: int64\n"
     ]
    }
   ],
   "source": [
    "final_floods_drop = floods.copy()\n",
    "final_floods_drop = final_floods_drop.dropna(subset=[\"Damage_Property\"])\n",
    "final_floods_drop = final_floods_drop.dropna(subset=[\"Range_Damage_Property\"])\n",
    "final_floods_drop = final_floods_drop.dropna(subset=[\"Flood_Cause\"])\n",
    "final_floods_drop = final_floods_drop.dropna(subset=[\"Begin_Lat\"])\n",
    "final_floods_drop = final_floods_drop.dropna(subset=[\"Begin_Lon\"])\n",
    "final_floods_drop = final_floods_drop.dropna(subset=[\"End_Lat\"])\n",
    "final_floods_drop = final_floods_drop.dropna(subset=[\"End_Lon\"])\n",
    "print(final_floods_drop.isnull().sum())"
   ]
  },
  {
   "cell_type": "code",
   "execution_count": 10,
   "metadata": {},
   "outputs": [],
   "source": [
    "final_floods_ce = final_floods_drop.copy()\n",
    "encoder = ce.BinaryEncoder(cols=['Flood_Cause'])\n",
    "final_floods= encoder.fit_transform(final_floods_ce)"
   ]
  },
  {
   "cell_type": "markdown",
   "metadata": {},
   "source": [
    "Model Training"
   ]
  },
  {
   "cell_type": "code",
   "execution_count": 11,
   "metadata": {},
   "outputs": [],
   "source": [
    "X = final_floods[['Flood_Cause_0', 'Flood_Cause_1', 'Flood_Cause_2', 'Flood_Cause_3','Begin_Lat', 'Begin_Lon', 'End_Lat', 'End_Lon']].copy()\n",
    "y = final_floods[['Range_Damage_Property']].copy()"
   ]
  },
  {
   "cell_type": "code",
   "execution_count": 12,
   "metadata": {},
   "outputs": [
    {
     "name": "stdout",
     "output_type": "stream",
     "text": [
      "(11535, 8)\n",
      "(2884, 8)\n",
      "(11535, 1)\n",
      "(2884, 1)\n",
      "0.0    6805\n",
      "2.0    1719\n",
      "3.0    1506\n",
      "1.0    1388\n",
      "4.0     117\n",
      "Name: Range_Damage_Property, dtype: int64\n",
      "0.0    1711\n",
      "2.0     407\n",
      "3.0     376\n",
      "1.0     361\n",
      "4.0      29\n",
      "Name: Range_Damage_Property, dtype: int64\n"
     ]
    }
   ],
   "source": [
    "# Split Data into Train & Test Data  \n",
    "X_train, X_test, y_train, y_test = train_test_split(X, y, test_size=0.2,random_state=0)\n",
    "print(X_train.shape)\n",
    "print(X_test.shape)\n",
    "print(y_train.shape)\n",
    "print(y_test.shape)\n",
    "print(y_train['Range_Damage_Property'].value_counts())\n",
    "print(y_test['Range_Damage_Property'].value_counts())"
   ]
  },
  {
   "cell_type": "code",
   "execution_count": 22,
   "metadata": {},
   "outputs": [
    {
     "name": "stderr",
     "output_type": "stream",
     "text": [
      "/usr/local/lib/python3.7/site-packages/sklearn/utils/validation.py:73: DataConversionWarning: A column-vector y was passed when a 1d array was expected. Please change the shape of y to (n_samples, ), for example using ravel().\n",
      "  return f(**kwargs)\n"
     ]
    },
    {
     "name": "stdout",
     "output_type": "stream",
     "text": [
      "[0. 0. 0. ... 0. 0. 0.]\n",
      "Accuracy: 0.5932732316227461\n",
      "Confusion matrix, without normalization\n"
     ]
    },
    {
     "data": {
      "image/png": "[encoded data removed]",
      "text/plain": [
       "<Figure size 432x288 with 2 Axes>"
      ]
     },
     "metadata": {
      "needs_background": "light"
     },
     "output_type": "display_data"
    },
    {
     "name": "stdout",
     "output_type": "stream",
     "text": [
      "Cohen Kappa Score: 0.0\n",
      "Classification report \n",
      "              precision    recall  f1-score   support\n",
      "\n",
      "           0       0.59      1.00      0.74      1711\n",
      "           1       0.00      0.00      0.00       361\n",
      "           2       0.00      0.00      0.00       407\n",
      "           3       0.00      0.00      0.00       376\n",
      "           4       0.00      0.00      0.00        29\n",
      "\n",
      "    accuracy                           0.59      2884\n",
      "   macro avg       0.12      0.20      0.15      2884\n",
      "weighted avg       0.35      0.59      0.44      2884\n",
      "\n"
     ]
    },
    {
     "name": "stderr",
     "output_type": "stream",
     "text": [
      "/usr/local/lib/python3.7/site-packages/sklearn/metrics/_classification.py:1221: UndefinedMetricWarning: Precision and F-score are ill-defined and being set to 0.0 in labels with no predicted samples. Use `zero_division` parameter to control this behavior.\n",
      "  _warn_prf(average, modifier, msg_start, len(result))\n"
     ]
    }
   ],
   "source": [
    "# Create a SVM Model\n",
    "clf = svm.SVC(kernel='linear')\n",
    "\n",
    "# Train the model using the training sets\n",
    "clf.fit(X_train, y_train)\n",
    "\n",
    "# Predict the response for test dataset\n",
    "y_pred = clf.predict(X_test)\n",
    "\n",
    "# Print Model Accuracy\n",
    "print(clf.predict(X_test))\n",
    "print(\"Accuracy:\",metrics.accuracy_score(y_test, y_pred))\n",
    "\n",
    "# Evaluate Model\n",
    "evaluate_model(y_test, clf.predict(X_test))\n"
   ]
  },
  {
   "cell_type": "code",
   "execution_count": 14,
   "metadata": {},
   "outputs": [
    {
     "name": "stderr",
     "output_type": "stream",
     "text": [
      "/usr/local/lib/python3.7/site-packages/sklearn/utils/validation.py:73: DataConversionWarning: A column-vector y was passed when a 1d array was expected. Please change the shape of y to (n_samples, ), for example using ravel().\n",
      "  return f(**kwargs)\n"
     ]
    }
   ],
   "source": [
    "#Covert classes to categorical type\n",
    "\n",
    "encoder = LabelEncoder()\n",
    "encoder.fit(y_train)\n",
    "encoded_Y = encoder.transform(y_train)\n",
    "\n",
    "encoded_y_train = np_utils.to_categorical(encoded_Y)\n",
    "\n",
    "encoder = LabelEncoder()\n",
    "encoder.fit(y_test)\n",
    "encoded_Y = encoder.transform(y_test)\n",
    "\n",
    "encoded_y_test = np_utils.to_categorical(encoded_Y)"
   ]
  },
  {
   "cell_type": "code",
   "execution_count": 16,
   "metadata": {},
   "outputs": [
    {
     "name": "stdout",
     "output_type": "stream",
     "text": [
      "Train on 11535 samples, validate on 2884 samples\n",
      "Epoch 1/20\n",
      "11535/11535 [==============================] - 1s 111us/step - loss: 1.3333 - accuracy: 0.5876 - val_loss: 1.1861 - val_accuracy: 0.5933\n",
      "Epoch 2/20\n",
      "11535/11535 [==============================] - 1s 86us/step - loss: 1.1810 - accuracy: 0.5901 - val_loss: 1.1706 - val_accuracy: 0.5933\n",
      "Epoch 3/20\n",
      "11535/11535 [==============================] - 1s 87us/step - loss: 1.1718 - accuracy: 0.5900 - val_loss: 1.1650 - val_accuracy: 0.5933\n",
      "Epoch 4/20\n",
      "11535/11535 [==============================] - 1s 91us/step - loss: 1.1677 - accuracy: 0.5900 - val_loss: 1.1623 - val_accuracy: 0.5933\n",
      "Epoch 5/20\n",
      "11535/11535 [==============================] - 1s 88us/step - loss: 1.1655 - accuracy: 0.5900 - val_loss: 1.1612 - val_accuracy: 0.5933\n",
      "Epoch 6/20\n",
      "11535/11535 [==============================] - 1s 102us/step - loss: 1.1644 - accuracy: 0.5900 - val_loss: 1.1600 - val_accuracy: 0.5933\n",
      "Epoch 7/20\n",
      "11535/11535 [==============================] - 1s 90us/step - loss: 1.1635 - accuracy: 0.5901 - val_loss: 1.1597 - val_accuracy: 0.5933\n",
      "Epoch 8/20\n",
      "11535/11535 [==============================] - 1s 89us/step - loss: 1.1634 - accuracy: 0.5899 - val_loss: 1.1592 - val_accuracy: 0.5933\n",
      "Epoch 9/20\n",
      "11535/11535 [==============================] - 1s 86us/step - loss: 1.1628 - accuracy: 0.5900 - val_loss: 1.1594 - val_accuracy: 0.5933\n",
      "Epoch 10/20\n",
      "11535/11535 [==============================] - 1s 90us/step - loss: 1.1627 - accuracy: 0.5900 - val_loss: 1.1587 - val_accuracy: 0.5933\n",
      "Epoch 11/20\n",
      "11535/11535 [==============================] - 1s 96us/step - loss: 1.1626 - accuracy: 0.5900 - val_loss: 1.1588 - val_accuracy: 0.5933\n",
      "Epoch 12/20\n",
      "11535/11535 [==============================] - 1s 89us/step - loss: 1.1624 - accuracy: 0.5900 - val_loss: 1.1586 - val_accuracy: 0.5933\n",
      "Epoch 13/20\n",
      "11535/11535 [==============================] - 1s 89us/step - loss: 1.1623 - accuracy: 0.5901 - val_loss: 1.1586 - val_accuracy: 0.5933\n",
      "Epoch 14/20\n",
      "11535/11535 [==============================] - 1s 89us/step - loss: 1.1623 - accuracy: 0.5900 - val_loss: 1.1585 - val_accuracy: 0.5933\n",
      "Epoch 15/20\n",
      "11535/11535 [==============================] - 1s 88us/step - loss: 1.1622 - accuracy: 0.5899 - val_loss: 1.1584 - val_accuracy: 0.5933\n",
      "Epoch 16/20\n",
      "11535/11535 [==============================] - 1s 95us/step - loss: 1.1622 - accuracy: 0.5900 - val_loss: 1.1583 - val_accuracy: 0.5933\n",
      "Epoch 17/20\n",
      "11535/11535 [==============================] - 1s 90us/step - loss: 1.1622 - accuracy: 0.5901 - val_loss: 1.1586 - val_accuracy: 0.5933\n",
      "Epoch 18/20\n",
      "11535/11535 [==============================] - 1s 91us/step - loss: 1.1622 - accuracy: 0.5899 - val_loss: 1.1585 - val_accuracy: 0.5933\n",
      "Epoch 19/20\n",
      "11535/11535 [==============================] - 1s 88us/step - loss: 1.1621 - accuracy: 0.5900 - val_loss: 1.1583 - val_accuracy: 0.5933\n",
      "Epoch 20/20\n",
      "11535/11535 [==============================] - 1s 110us/step - loss: 1.1622 - accuracy: 0.5900 - val_loss: 1.1583 - val_accuracy: 0.5933\n",
      "2884/2884 [==============================] - 0s 15us/step\n",
      "Evaluation result on Test Data : Loss = 1.1582918563927427, accuracy = 0.5932732224464417\n",
      "[0 0 0 ... 0 0 0]\n",
      "Confusion matrix, without normalization\n"
     ]
    },
    {
     "data": {
      "image/png": "[encoded data removed]",
      "text/plain": [
       "<Figure size 432x288 with 2 Axes>"
      ]
     },
     "metadata": {
      "needs_background": "light"
     },
     "output_type": "display_data"
    },
    {
     "name": "stdout",
     "output_type": "stream",
     "text": [
      "Cohen Kappa Score: 0.0\n",
      "Classification report \n",
      "              precision    recall  f1-score   support\n",
      "\n",
      "           0       0.59      1.00      0.74      1711\n",
      "           1       0.00      0.00      0.00       361\n",
      "           2       0.00      0.00      0.00       407\n",
      "           3       0.00      0.00      0.00       376\n",
      "           4       0.00      0.00      0.00        29\n",
      "\n",
      "    accuracy                           0.59      2884\n",
      "   macro avg       0.12      0.20      0.15      2884\n",
      "weighted avg       0.35      0.59      0.44      2884\n",
      "\n",
      "Model: \"sequential_3\"\n",
      "_________________________________________________________________\n",
      "Layer (type)                 Output Shape              Param #   \n",
      "=================================================================\n",
      "dense_5 (Dense)              (None, 16)                144       \n",
      "_________________________________________________________________\n",
      "dense_6 (Dense)              (None, 16)                272       \n",
      "_________________________________________________________________\n",
      "dense_7 (Dense)              (None, 5)                 85        \n",
      "=================================================================\n",
      "Total params: 501\n",
      "Trainable params: 501\n",
      "Non-trainable params: 0\n",
      "_________________________________________________________________\n",
      "None\n"
     ]
    },
    {
     "name": "stderr",
     "output_type": "stream",
     "text": [
      "/usr/local/lib/python3.7/site-packages/sklearn/metrics/_classification.py:1221: UndefinedMetricWarning: Precision and F-score are ill-defined and being set to 0.0 in labels with no predicted samples. Use `zero_division` parameter to control this behavior.\n",
      "  _warn_prf(average, modifier, msg_start, len(result))\n"
     ]
    }
   ],
   "source": [
    "# Create Feed Forward Neural Network\n",
    "model = Sequential()\n",
    "model.add(Dense(16, activation='relu', input_dim=8))\n",
    "model.add(Dense(16, activation='relu'))\n",
    "model.add(Dense(5, activation='softmax'))\n",
    "\n",
    "# Compile the Network\n",
    "model.compile(loss='categorical_crossentropy', optimizer='SGD', metrics=['accuracy'])\n",
    "\n",
    "# Train the model using the training sets\n",
    "model.fit(X_train, encoded_y_train, batch_size=10, epochs=20, verbose=1, validation_data=(X_test, encoded_y_test))\n",
    "\n",
    "# Print Model Accuracy\n",
    "[test_loss, test_acc] = model.evaluate(X_test, encoded_y_test)\n",
    "print(\"Evaluation result on Test Data : Loss = {}, accuracy = {}\".format(test_loss, test_acc))\n",
    "pred = model.predict_classes(X_test)\n",
    "print(pred)\n",
    "\n",
    "# Evaluate Model\n",
    "evaluate_model(y_test, pred)\n",
    "\n",
    "# Print Model Summary\n",
    "print(model.summary())\n"
   ]
  },
  {
   "cell_type": "code",
   "execution_count": 13,
   "metadata": {},
   "outputs": [
    {
     "name": "stdout",
     "output_type": "stream",
     "text": [
      "Accuracy: 0.6605409153952844\n",
      "Confusion matrix, without normalization\n"
     ]
    },
    {
     "data": {
      "image/png": "[encoded data removed]",
      "text/plain": [
       "<Figure size 432x288 with 2 Axes>"
      ]
     },
     "metadata": {
      "needs_background": "light"
     },
     "output_type": "display_data"
    },
    {
     "name": "stdout",
     "output_type": "stream",
     "text": [
      "Cohen Kappa Score: 0.36717217834426885\n",
      "Classification report \n",
      "              precision    recall  f1-score   support\n",
      "\n",
      "           0       0.74      0.89      0.81      1711\n",
      "           1       0.49      0.34      0.40       361\n",
      "           2       0.43      0.35      0.39       407\n",
      "           3       0.48      0.28      0.35       376\n",
      "           4       0.36      0.14      0.20        29\n",
      "\n",
      "    accuracy                           0.66      2884\n",
      "   macro avg       0.50      0.40      0.43      2884\n",
      "weighted avg       0.63      0.66      0.63      2884\n",
      "\n"
     ]
    }
   ],
   "source": [
    "# Create Decision Tree classifer\n",
    "clf = DecisionTreeClassifier(criterion=\"entropy\", splitter=\"best\",max_depth=11)\n",
    "\n",
    "# Train the model using the training sets\n",
    "clf = clf.fit(X_train,y_train)\n",
    "\n",
    "# Predict the response for test dataset\n",
    "y_pred = clf.predict(X_test)\n",
    "\n",
    "# Print Model Accuracy\n",
    "print(\"Accuracy:\",metrics.accuracy_score(y_test, y_pred))\n",
    "\n",
    "# Evaluate Model\n",
    "evaluate_model(y_test, y_pred)\n"
   ]
  },
  {
   "cell_type": "code",
   "execution_count": 14,
   "metadata": {},
   "outputs": [
    {
     "name": "stderr",
     "output_type": "stream",
     "text": [
      "/usr/local/lib/python3.7/site-packages/ipykernel_launcher.py:5: DataConversionWarning: A column-vector y was passed when a 1d array was expected. Please change the shape of y to (n_samples,), for example using ravel().\n",
      "  \"\"\"\n",
      "[Parallel(n_jobs=1)]: Using backend SequentialBackend with 1 concurrent workers.\n",
      "[Parallel(n_jobs=1)]: Done 100 out of 100 | elapsed:    1.2s finished\n",
      "[Parallel(n_jobs=1)]: Using backend SequentialBackend with 1 concurrent workers.\n",
      "[Parallel(n_jobs=1)]: Done 100 out of 100 | elapsed:    0.1s finished\n"
     ]
    },
    {
     "name": "stdout",
     "output_type": "stream",
     "text": [
      "Accuracy: 0.6778779472954231\n",
      "Confusion matrix, without normalization\n"
     ]
    },
    {
     "data": {
      "image/png": "[encoded data removed]",
      "text/plain": [
       "<Figure size 432x288 with 2 Axes>"
      ]
     },
     "metadata": {
      "needs_background": "light"
     },
     "output_type": "display_data"
    },
    {
     "name": "stdout",
     "output_type": "stream",
     "text": [
      "Cohen Kappa Score: 0.37144067699189887\n",
      "Classification report \n",
      "              precision    recall  f1-score   support\n",
      "\n",
      "           0       0.72      0.94      0.82      1711\n",
      "           1       0.60      0.32      0.42       361\n",
      "           2       0.49      0.35      0.41       407\n",
      "           3       0.53      0.23      0.32       376\n",
      "           4       0.50      0.10      0.17        29\n",
      "\n",
      "    accuracy                           0.68      2884\n",
      "   macro avg       0.57      0.39      0.43      2884\n",
      "weighted avg       0.65      0.68      0.64      2884\n",
      "\n"
     ]
    }
   ],
   "source": [
    "\n",
    "# Create Random Forest classifer\n",
    "clf=RandomForestClassifier(n_estimators=100,criterion='entropy',max_depth=10,min_samples_split=5,verbose=1)\n",
    "\n",
    "# Train the model using the training sets\n",
    "clf.fit(X_train,y_train)\n",
    "\n",
    "# Predict the response for test dataset\n",
    "y_pred=clf.predict(X_test)\n",
    "\n",
    "# Print Model Accuracy\n",
    "print(\"Accuracy:\",metrics.accuracy_score(y_test, y_pred))\n",
    "\n",
    "# Evaluate Model\n",
    "evaluate_model(y_test, y_pred)"
   ]
  },
  {
   "cell_type": "code",
   "execution_count": 15,
   "metadata": {},
   "outputs": [
    {
     "name": "stderr",
     "output_type": "stream",
     "text": [
      "/usr/local/lib/python3.7/site-packages/sklearn/utils/validation.py:73: DataConversionWarning: A column-vector y was passed when a 1d array was expected. Please change the shape of y to (n_samples, ), for example using ravel().\n",
      "  return f(**kwargs)\n"
     ]
    }
   ],
   "source": [
    "#Covert classes to categorical type\n",
    "\n",
    "encoder = LabelEncoder()\n",
    "encoder.fit(y_train)\n",
    "encoded_Y = encoder.transform(y_train)\n",
    "\n",
    "encoded_y_train = np_utils.to_categorical(encoded_Y)\n",
    "\n",
    "encoder = LabelEncoder()\n",
    "encoder.fit(y_test)\n",
    "encoded_Y = encoder.transform(y_test)\n",
    "\n",
    "encoded_y_test = np_utils.to_categorical(encoded_Y)"
   ]
  },
  {
   "cell_type": "code",
   "execution_count": 16,
   "metadata": {},
   "outputs": [
    {
     "name": "stdout",
     "output_type": "stream",
     "text": [
      "Train on 11535 samples, validate on 2884 samples\n",
      "Epoch 1/20\n",
      "11535/11535 [==============================] - 1s 128us/step - loss: 1.2748 - accuracy: 0.5889 - val_loss: 1.1723 - val_accuracy: 0.5933\n",
      "Epoch 2/20\n",
      "11535/11535 [==============================] - 1s 88us/step - loss: 1.1705 - accuracy: 0.5901 - val_loss: 1.1636 - val_accuracy: 0.5933\n",
      "Epoch 3/20\n",
      "11535/11535 [==============================] - 1s 88us/step - loss: 1.1727 - accuracy: 0.5899 - val_loss: 1.1594 - val_accuracy: 0.5933\n",
      "Epoch 4/20\n",
      "11535/11535 [==============================] - 1s 88us/step - loss: 1.1659 - accuracy: 0.5900 - val_loss: 1.1589 - val_accuracy: 0.5933\n",
      "Epoch 5/20\n",
      "11535/11535 [==============================] - 1s 96us/step - loss: 1.1647 - accuracy: 0.5900 - val_loss: 1.1586 - val_accuracy: 0.5933\n",
      "Epoch 6/20\n",
      "11535/11535 [==============================] - 1s 103us/step - loss: 1.1628 - accuracy: 0.5901 - val_loss: 1.1583 - val_accuracy: 0.5933\n",
      "Epoch 7/20\n",
      "11535/11535 [==============================] - 1s 109us/step - loss: 1.1651 - accuracy: 0.5899 - val_loss: 1.1585 - val_accuracy: 0.5933\n",
      "Epoch 8/20\n",
      "11535/11535 [==============================] - 1s 108us/step - loss: 1.1634 - accuracy: 0.5900 - val_loss: 1.1587 - val_accuracy: 0.5933\n",
      "Epoch 9/20\n",
      "11535/11535 [==============================] - 2s 149us/step - loss: 1.1632 - accuracy: 0.5900 - val_loss: 1.1591 - val_accuracy: 0.5933\n",
      "Epoch 10/20\n",
      "11535/11535 [==============================] - 1s 111us/step - loss: 1.1625 - accuracy: 0.5901 - val_loss: 1.1591 - val_accuracy: 0.5933\n",
      "Epoch 11/20\n",
      "11535/11535 [==============================] - 1s 130us/step - loss: 1.1630 - accuracy: 0.5899 - val_loss: 1.1586 - val_accuracy: 0.5933\n",
      "Epoch 12/20\n",
      "11535/11535 [==============================] - 2s 130us/step - loss: 1.1624 - accuracy: 0.5901 - val_loss: 1.1588 - val_accuracy: 0.5933\n",
      "Epoch 13/20\n",
      "11535/11535 [==============================] - 1s 119us/step - loss: 1.1630 - accuracy: 0.5899 - val_loss: 1.1584 - val_accuracy: 0.5933\n",
      "Epoch 14/20\n",
      "11535/11535 [==============================] - 1s 91us/step - loss: 1.1623 - accuracy: 0.5901 - val_loss: 1.1586 - val_accuracy: 0.5933\n",
      "Epoch 15/20\n",
      "11535/11535 [==============================] - 1s 87us/step - loss: 1.1624 - accuracy: 0.5901 - val_loss: 1.1584 - val_accuracy: 0.5933\n",
      "Epoch 16/20\n",
      "11535/11535 [==============================] - 1s 94us/step - loss: 1.1622 - accuracy: 0.5900 - val_loss: 1.1585 - val_accuracy: 0.5933\n",
      "Epoch 17/20\n",
      "11535/11535 [==============================] - 1s 107us/step - loss: 1.1624 - accuracy: 0.5901 - val_loss: 1.1585 - val_accuracy: 0.5933\n",
      "Epoch 18/20\n",
      "11535/11535 [==============================] - 1s 97us/step - loss: 1.1622 - accuracy: 0.5901 - val_loss: 1.1585 - val_accuracy: 0.5933\n",
      "Epoch 19/20\n",
      "11535/11535 [==============================] - 1s 100us/step - loss: 1.1629 - accuracy: 0.5900 - val_loss: 1.1584 - val_accuracy: 0.5933\n",
      "Epoch 20/20\n",
      "11535/11535 [==============================] - 1s 101us/step - loss: 1.1628 - accuracy: 0.5900 - val_loss: 1.1587 - val_accuracy: 0.5933\n",
      "2884/2884 [==============================] - 0s 16us/step\n",
      "Evaluation result on Test Data : Loss = 1.158706490441268, accuracy = 0.5932732224464417\n",
      "[0 0 0 ... 0 0 0]\n",
      "Confusion matrix, without normalization\n"
     ]
    },
    {
     "data": {
      "image/png": "[encoded data removed]",
      "text/plain": [
       "<Figure size 432x288 with 2 Axes>"
      ]
     },
     "metadata": {
      "needs_background": "light"
     },
     "output_type": "display_data"
    },
    {
     "name": "stdout",
     "output_type": "stream",
     "text": [
      "Cohen Kappa Score: 0.0\n",
      "Classification report \n",
      "              precision    recall  f1-score   support\n",
      "\n",
      "           0       0.59      1.00      0.74      1711\n",
      "           1       0.00      0.00      0.00       361\n",
      "           2       0.00      0.00      0.00       407\n",
      "           3       0.00      0.00      0.00       376\n",
      "           4       0.00      0.00      0.00        29\n",
      "\n",
      "    accuracy                           0.59      2884\n",
      "   macro avg       0.12      0.20      0.15      2884\n",
      "weighted avg       0.35      0.59      0.44      2884\n",
      "\n",
      "Model: \"sequential_1\"\n",
      "_________________________________________________________________\n",
      "Layer (type)                 Output Shape              Param #   \n",
      "=================================================================\n",
      "dense_1 (Dense)              (None, 16)                144       \n",
      "_________________________________________________________________\n",
      "dense_2 (Dense)              (None, 16)                272       \n",
      "_________________________________________________________________\n",
      "dense_3 (Dense)              (None, 5)                 85        \n",
      "=================================================================\n",
      "Total params: 501\n",
      "Trainable params: 501\n",
      "Non-trainable params: 0\n",
      "_________________________________________________________________\n",
      "None\n"
     ]
    },
    {
     "name": "stderr",
     "output_type": "stream",
     "text": [
      "/usr/local/lib/python3.7/site-packages/sklearn/metrics/_classification.py:1221: UndefinedMetricWarning: Precision and F-score are ill-defined and being set to 0.0 in labels with no predicted samples. Use `zero_division` parameter to control this behavior.\n",
      "  _warn_prf(average, modifier, msg_start, len(result))\n"
     ]
    }
   ],
   "source": [
    "# Create Feed Forward Neural Network\n",
    "model = Sequential()\n",
    "model.add(Dense(16, activation='relu', input_dim=8))\n",
    "model.add(Dense(16, activation='relu'))\n",
    "model.add(Dense(5, activation='softmax'))\n",
    "\n",
    "# Compile the Network\n",
    "model.compile(loss='categorical_crossentropy', optimizer='SGD', metrics=['accuracy'])\n",
    "\n",
    "# Train the model using the training sets\n",
    "model.fit(X_train, encoded_y_train, batch_size=10, epochs=20, verbose=1, validation_data=(X_test, encoded_y_test))\n",
    "\n",
    "# Print Model Accuracy\n",
    "[test_loss, test_acc] = model.evaluate(X_test, encoded_y_test)\n",
    "print(\"Evaluation result on Test Data : Loss = {}, accuracy = {}\".format(test_loss, test_acc))\n",
    "pred = model.predict_classes(X_test)\n",
    "print(pred)\n",
    "\n",
    "# Evaluate Model\n",
    "evaluate_model(y_test, pred)\n",
    "\n",
    "# Print Model Summary\n",
    "print(model.summary())"
   ]
  },
  {
   "cell_type": "code",
   "execution_count": 17,
   "metadata": {},
   "outputs": [],
   "source": [
    "model.save(\"FNN.h5\")"
   ]
  },
  {
   "cell_type": "code",
   "execution_count": null,
   "metadata": {},
   "outputs": [],
   "source": []
  }
 ],
 "metadata": {
  "kernelspec": {
   "display_name": "Python 3",
   "language": "python",
   "name": "python3"
  },
  "language_info": {
   "codemirror_mode": {
    "name": "ipython",
    "version": 3
   },
   "file_extension": ".py",
   "mimetype": "text/x-python",
   "name": "python",
   "nbconvert_exporter": "python",
   "pygments_lexer": "ipython3",
   "version": "3.7.6"
  }
 },
 "nbformat": 4,
 "nbformat_minor": 4
}
